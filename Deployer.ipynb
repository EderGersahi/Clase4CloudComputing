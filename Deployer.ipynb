{
 "cells": [
  {
   "cell_type": "markdown",
   "metadata": {},
   "source": [
    "ESQUELETO:\n",
    "\n",
    "Este es el archivo para subir el modelo a la nube.\n",
    "\n",
    "\n",
    "CÓMO FUNCIONA:\n",
    "\n",
    "1. Tomar un modelo ya realizado.\n",
    "\n",
    "2. Lo sube a la nube.\n",
    "\n",
    "ASEGÚRENSE DE QUE SE COORDINAN LO NECESARIO PARA QUE LOS NOMBRES COINCIDAN (no es de chill cambiar el estándar xd)."
   ]
  },
  {
   "cell_type": "code",
   "execution_count": null,
   "metadata": {},
   "outputs": [
    {
     "name": "stderr",
     "output_type": "stream",
     "text": [
      "c:\\Users\\pamec\\anaconda3\\Lib\\site-packages\\paramiko\\transport.py:219: CryptographyDeprecationWarning: Blowfish has been deprecated\n",
      "  \"class\": algorithms.Blowfish,\n"
     ]
    },
    {
     "name": "stdout",
     "output_type": "stream",
     "text": [
      "Performing interactive authentication. Please follow the instructions on the terminal.\n"
     ]
    },
    {
     "name": "stderr",
     "output_type": "stream",
     "text": [
      "The default web browser has been opened at https://login.microsoftonline.com/organizations/oauth2/v2.0/authorize. Please continue the login in the web browser. If no web browser is available or if the web browser fails to open, use device code flow with `az login --use-device-code`.\n"
     ]
    },
    {
     "name": "stdout",
     "output_type": "stream",
     "text": [
      "Interactive authentication successfully completed.\n"
     ]
    },
    {
     "name": "stderr",
     "output_type": "stream",
     "text": [
      "UserWarning: The resource group doesn't exist or was not provided. AzureML SDK is creating a resource group=resource_group2 in location=centralindia using subscription=70fb27be-568c-47bc-a832-b2410d37a2cc.\n"
     ]
    },
    {
     "name": "stdout",
     "output_type": "stream",
     "text": [
      "Cleaning up past default Resource Group Deployments on the subscription to avoid limit of 10\n",
      "Deleting past Resource Group Deployment with name: DeployResourceGroup-2deb444159\n",
      "Deploying KeyVault with name workspackeyvaultd52e1b03.\n",
      "Deploying StorageAccount with name workspacstorage1b43ca60d.\n",
      "Deploying AppInsights with name workspacinsightsd42e6836.\n",
      "Deployed AppInsights with name workspacinsightsd42e6836. Took 35.61 seconds.\n",
      "Deploying Workspace with name workspace.\n",
      "Deployed Workspace with name workspace. Took 42.75 seconds.\n",
      "Registering model model\n"
     ]
    }
   ],
   "source": [
    "## STEP 1: Set up the workspace.\n",
    "\n",
    "import json\n",
    "\n",
    "#GETTING MY ID:\n",
    "#id = open('id_Confidential.json', 'r')\n",
    "#mi = json.load(id)\n",
    "\n",
    "from azureml.core import Workspace\n",
    "\n",
    "ws = Workspace.create(name=\"workspace\",\n",
    "                      subscription_id = \"id\", ## Borre este para que no tenga el id confidencial\n",
    "                      resource_group = \"resource_group2\",\n",
    "                      location = \"centralindia\")\n",
    "\n",
    "from azureml.core.model import Model\n",
    "\n",
    "mname = \"model\"\n",
    "registered_model = Model.register(model_path=\"model.pkl\",\n",
    "                                  model_name=mname,\n",
    "                                  workspace=ws)"
   ]
  },
  {
   "cell_type": "code",
   "execution_count": 4,
   "metadata": {},
   "outputs": [],
   "source": [
    "################ score.py ###################\n",
    "\n",
    "scorepy = f\"\"\"\n",
    "import json\n",
    "import joblib\n",
    "import numpy as np\n",
    "import pandas as pd\n",
    "from azureml.core.model import Model\n",
    "\n",
    "def init():\n",
    "  global model\n",
    "  model_path = Model.get_model_path('{mname}')\n",
    "  model = joblib.load(model_path)\n",
    "\n",
    "\n",
    "def run(raw_data):\n",
    "  try: ## Try la predicción.\n",
    "    data = json.loads(raw_data)['data'][0]\n",
    "    data = pd.DataFrame(data)\n",
    "\n",
    "    result = model.predict(data).tolist()\n",
    "\n",
    "    return json.dumps(result)\n",
    "  except Exception as e:\n",
    "    return json.dumps(str(e))\n",
    "\"\"\"\n",
    "\n",
    "file_score = open(\"score.py\", \"w\")\n",
    "file_score.write(scorepy)\n",
    "file_score.close()"
   ]
  },
  {
   "cell_type": "code",
   "execution_count": 5,
   "metadata": {},
   "outputs": [
    {
     "name": "stderr",
     "output_type": "stream",
     "text": [
      "C:\\Users\\pamec\\AppData\\Local\\Temp\\ipykernel_14860\\944137596.py:18: FutureWarning: azureml.core.model:\n",
      "To leverage new model deployment capabilities, AzureML recommends using CLI/SDK v2 to deploy models as online endpoint, \n",
      "please refer to respective documentations \n",
      "https://docs.microsoft.com/azure/machine-learning/how-to-deploy-managed-online-endpoints /\n",
      "https://docs.microsoft.com/azure/machine-learning/how-to-attach-kubernetes-anywhere \n",
      "For more information on migration, see https://aka.ms/acimoemigration \n",
      "To disable CLI/SDK v1 deprecation warning set AZUREML_LOG_DEPRECATION_WARNING_ENABLED to 'False'\n",
      "  service = Model.deploy(workspace=ws,\n"
     ]
    }
   ],
   "source": [
    "## STEP 2: Inference configuration: the blueprints for the German carpenter about how to build your furniture.\n",
    "\n",
    "from azureml.core.environment import Environment\n",
    "virtual_env = Environment(\"env-4-housing\")\n",
    "\n",
    "from azureml.core.conda_dependencies import CondaDependencies\n",
    "virtual_env.python.conda_dependencies = CondaDependencies.create(conda_packages=['pandas','scikit-learn']) ## Asegúrense de coordinarse con el departamento de modelos para incluir los paquetes correctos. Si no, BOOM!\n",
    "\n",
    "\n",
    "from azureml.core.model import InferenceConfig\n",
    "from azureml.core.webservice import AciWebservice\n",
    "inference_config = InferenceConfig(\n",
    "                                environment=virtual_env,\n",
    "                                entry_script=\"score.py\",\n",
    "                                )\n",
    "aci_config = AciWebservice.deploy_configuration(cpu_cores=0.5, memory_gb=1) ## ASEGÚRENSE DE ASIGNAR SUFICIENTE MADERA PARA SUS MUEBLES.\n",
    "\n",
    "service = Model.deploy(workspace=ws,\n",
    "                       name='service',\n",
    "                       models=[registered_model],\n",
    "                       inference_config=inference_config,\n",
    "                       deployment_config=aci_config,\n",
    "                       overwrite=True,\n",
    "                       )"
   ]
  },
  {
   "cell_type": "code",
   "execution_count": 6,
   "metadata": {},
   "outputs": [
    {
     "name": "stdout",
     "output_type": "stream",
     "text": [
      "ACI service creation operation finished, operation \"Succeeded\"\n"
     ]
    }
   ],
   "source": [
    "service.wait_for_deployment()\n",
    "\n",
    "scoring_uri = service.scoring_uri\n",
    "\n",
    "scoreuri = json.dumps({\"URI\": [scoring_uri]})\n",
    "file = open(\"uri.json\", \"w\")\n",
    "file.write(scoreuri)\n",
    "file.close()"
   ]
  }
 ],
 "metadata": {
  "kernelspec": {
   "display_name": "base",
   "language": "python",
   "name": "python3"
  },
  "language_info": {
   "codemirror_mode": {
    "name": "ipython",
    "version": 3
   },
   "file_extension": ".py",
   "mimetype": "text/x-python",
   "name": "python",
   "nbconvert_exporter": "python",
   "pygments_lexer": "ipython3",
   "version": "3.11.4"
  }
 },
 "nbformat": 4,
 "nbformat_minor": 2
}
